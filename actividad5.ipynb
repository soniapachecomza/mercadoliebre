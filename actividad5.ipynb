{
  "nbformat": 4,
  "nbformat_minor": 0,
  "metadata": {
    "colab": {
      "name": "actividad5.ipynb",
      "provenance": [],
      "collapsed_sections": [],
      "authorship_tag": "ABX9TyOd6DhKFSPucK9j1a+6zsio",
      "include_colab_link": true
    },
    "kernelspec": {
      "name": "python3",
      "display_name": "Python 3"
    },
    "language_info": {
      "name": "python"
    }
  },
  "cells": [
    {
      "cell_type": "markdown",
      "metadata": {
        "id": "view-in-github",
        "colab_type": "text"
      },
      "source": [
        "<a href=\"https://colab.research.google.com/github/soniapachecomza/mercadoliebre/blob/main/actividad5.ipynb\" target=\"_parent\"><img src=\"https://colab.research.google.com/assets/colab-badge.svg\" alt=\"Open In Colab\"/></a>"
      ]
    },
    {
      "cell_type": "markdown",
      "source": [
        "#Punto 1"
      ],
      "metadata": {
        "id": "XxX4phcx_gSR"
      }
    },
    {
      "cell_type": "code",
      "source": [
        "def area_rectangulo(base, altura):\n",
        "    return base * altura\n",
        "\n",
        "area_rectangulo(15, 10)"
      ],
      "metadata": {
        "colab": {
          "base_uri": "https://localhost:8080/"
        },
        "id": "s59oA7lq_hom",
        "outputId": "21863b86-966c-4124-e796-c6aab5efab3e"
      },
      "execution_count": null,
      "outputs": [
        {
          "output_type": "execute_result",
          "data": {
            "text/plain": [
              "150"
            ]
          },
          "metadata": {},
          "execution_count": 9
        }
      ]
    },
    {
      "cell_type": "markdown",
      "source": [
        "#Punto 2"
      ],
      "metadata": {
        "id": "N0yMkBL5AiWa"
      }
    },
    {
      "cell_type": "code",
      "source": [
        "from math import pi\n",
        "\n",
        "def area_circulo(radio):\n",
        "    return pi * radio**2\n",
        "\n",
        "area_circulo(5)"
      ],
      "metadata": {
        "id": "ASlZDyDTAtSa",
        "colab": {
          "base_uri": "https://localhost:8080/"
        },
        "outputId": "b0ede136-27f9-493e-923d-4cf4b51296b3"
      },
      "execution_count": null,
      "outputs": [
        {
          "output_type": "execute_result",
          "data": {
            "text/plain": [
              "78.53981633974483"
            ]
          },
          "metadata": {},
          "execution_count": 1
        }
      ]
    },
    {
      "cell_type": "markdown",
      "source": [
        "#Punto 3"
      ],
      "metadata": {
        "id": "FgPYrj7OB3fr"
      }
    },
    {
      "cell_type": "code",
      "source": [
        "def relacion(numero1, numero2):\n",
        "    if numero1 > numero2:\n",
        "        return 1\n",
        "    elif numero1 < numero2:\n",
        "        return -1\n",
        "    return 0\n",
        "\n",
        "print(relacion(5, 10), relacion(10, 5), relacion(5, 5))"
      ],
      "metadata": {
        "id": "a2R-2HHhB7Zf",
        "colab": {
          "base_uri": "https://localhost:8080/"
        },
        "outputId": "8dce181c-9b5c-4d49-b4d2-59b5bc74e214"
      },
      "execution_count": null,
      "outputs": [
        {
          "output_type": "stream",
          "name": "stdout",
          "text": [
            "-1 1 0\n"
          ]
        }
      ]
    },
    {
      "cell_type": "markdown",
      "source": [
        "#Punto 4"
      ],
      "metadata": {
        "id": "Ztnbj_-vDzyA"
      }
    },
    {
      "cell_type": "code",
      "source": [
        "def intermedio(num1, num2):\n",
        "    return (num1 + num2) / 2\n",
        "\n",
        "intermedio(-12, 24)"
      ],
      "metadata": {
        "id": "fuoIdr5sD235"
      },
      "execution_count": null,
      "outputs": []
    },
    {
      "cell_type": "markdown",
      "source": [
        "#Punto 5"
      ],
      "metadata": {
        "id": "NTCOTWcZETDX"
      }
    },
    {
      "cell_type": "code",
      "source": [
        "def recortar(num, l_inf, l_sup):\n",
        "    return max(min(num, l_sup), l_inf)\n",
        "\n",
        "recortar(15, 0, 10)"
      ],
      "metadata": {
        "colab": {
          "base_uri": "https://localhost:8080/"
        },
        "id": "alv-JE4CEVme",
        "outputId": "cd610a31-efe7-4a1b-c734-7d8a90f156e3"
      },
      "execution_count": null,
      "outputs": [
        {
          "output_type": "execute_result",
          "data": {
            "text/plain": [
              "10"
            ]
          },
          "metadata": {},
          "execution_count": 8
        }
      ]
    },
    {
      "cell_type": "markdown",
      "source": [
        "#Punto 6"
      ],
      "metadata": {
        "id": "t564VD9jFVVw"
      }
    },
    {
      "cell_type": "code",
      "source": [
        "numeros = [2, 1, 5, 6, 7]\n",
        "def separar(*args):\n",
        "    lista = sorted(args)\n",
        "    pares = []\n",
        "    impares = []\n",
        "    for arg in lista:\n",
        "        if arg % 2 == 0:\n",
        "            pares.append(arg)\n",
        "        else:\n",
        "            impares.append(arg)\n",
        "        \n",
        "    return pares, impares\n",
        "\n",
        "pares, impares = separar(*numeros)\n",
        "print(pares)   # valdría [2, 6]\n",
        "print(impares)  # valdría [1, 5, 7]\n"
      ],
      "metadata": {
        "colab": {
          "base_uri": "https://localhost:8080/"
        },
        "id": "5Gg4-t9dFT-n",
        "outputId": "c123e152-5899-4954-ad81-4adaba754e10"
      },
      "execution_count": null,
      "outputs": [
        {
          "output_type": "stream",
          "name": "stdout",
          "text": [
            "[2, 6]\n",
            "[1, 5, 7]\n"
          ]
        }
      ]
    }
  ]
}